{
 "cells": [
  {
   "cell_type": "markdown",
   "metadata": {},
   "source": [
    "# Plan:\n",
    "\n",
    "- ~~Извлекать статьи по ключевым словам;~~\n",
    "- ~~Суммаризировать каждую статью;~~\n",
    "- Суммаризация подходов из статей;\n",
    "- Рерайтинг запроса;\n",
    "- Статья в виде json;\n",
    "- Выбор подходящей LLM; (https://ollama.com/library/llama3.2)\n",
    "- Разработка веб-интерфейса;\n",
    "- *Попробовать RAPTOR для суммаризации (https://arxiv.org/html/2401.18059v1);\n",
    "\n",
    "Для работы с Ollama - https://github.com/ollama/ollama\n",
    "\n",
    "Гайд по разработке ReAct Агента - https://langchain-ai.github.io/langgraph/how-tos/react-agent-from-scratch/#create-react-agent"
   ]
  },
  {
   "cell_type": "markdown",
   "metadata": {},
   "source": [
    "# LangGraph ReAct agent tutorial"
   ]
  },
  {
   "cell_type": "markdown",
   "metadata": {},
   "source": [
    "## Build agent"
   ]
  },
  {
   "cell_type": "code",
   "execution_count": 1,
   "metadata": {},
   "outputs": [],
   "source": [
    "from typing import Annotated, Sequence, TypedDict\n",
    "from langchain_core.messages import BaseMessage\n",
    "from langgraph.graph.message import add_messages\n",
    "from langchain_community.retrievers.arxiv import ArxivRetriever\n",
    "\n",
    "import json\n",
    "from langchain_core.messages import ToolMessage, SystemMessage, HumanMessage\n",
    "from langchain_core.runnables import RunnableConfig\n",
    "\n",
    "from langchain_core.language_models import BaseChatModel\n",
    "from langchain.tools import BaseTool\n",
    "\n",
    "\n",
    "from pydantic import BaseModel, Field\n",
    "from langchain_community.utilities.arxiv import ArxivAPIWrapper\n",
    "import arxiv\n",
    "import fitz\n",
    "\n",
    "class AgentState(TypedDict):\n",
    "    \"\"\"The state of the agent\"\"\"\n",
    "    messages: Annotated[Sequence[BaseMessage], add_messages]\n",
    "    model: BaseChatModel\n",
    "    # tools: Sequence[BaseTool]\n",
    "\n",
    "    "
   ]
  },
  {
   "cell_type": "code",
   "execution_count": 12,
   "metadata": {},
   "outputs": [
    {
     "data": {
      "image/png": "[encoded data removed]",
      "text/plain": [
       "<Figure size 1000x700 with 1 Axes>"
      ]
     },
     "metadata": {},
     "output_type": "display_data"
    }
   ],
   "source": [
    "import os\n",
    "import sys\n",
    "sys.path.append('../')\n",
    "\n",
    "from matplotlib import pyplot as plt\n",
    "from score import TextsSimilarity\n",
    "\n",
    "folders = os.listdir('../data')\n",
    "metric = TextsSimilarity()\n",
    "scores = []\n",
    "\n",
    "for n in range(len(folders)):\n",
    "# n = 2\n",
    "    folder_name = folders[n]\n",
    "    with open(os.path.join(\"../data\", folder_name, \"ans.txt\"), \"r\") as f:\n",
    "        ans = \"\"\n",
    "        for text in f.readlines():\n",
    "            ans += text\n",
    "    with open(os.path.join(\"../data\", folder_name, \"rw.txt\"), \"r\") as f:\n",
    "        ref = \"\"\n",
    "        for text in f.readlines():\n",
    "            ref += text\n",
    "            \n",
    "    scores.append(metric(ans, ref)[0])\n",
    "\n",
    "plt.figure(figsize=(10, 7))\n",
    "plt.hist(x=scores); "
   ]
  },
  {
   "cell_type": "code",
   "execution_count": 13,
   "metadata": {},
   "outputs": [
    {
     "data": {
      "text/plain": [
       "[('selfattn_with_rel_repr', 0.6465778),\n",
       " ('roberta', 0.4468929),\n",
       " ('attention_is_all_you_need', 0.67950094),\n",
       " ('COSMIC', 0.40350688),\n",
       " ('layernorm', 0.7460119),\n",
       " ('T2T_for_NMT', 0.82187605),\n",
       " ('craft', 0.65621465),\n",
       " ('bahdanau_attn', 0.71698546),\n",
       " ('luong_attn', 0.6117296),\n",
       " ('sensorscan', 0.2907752),\n",
       " ('RAPTOR', 0.6253125),\n",
       " ('albert', 0.64190036),\n",
       " ('kovalenko_graph', 0.56014025),\n",
       " ('BERT', 0.5679616)]"
      ]
     },
     "execution_count": 13,
     "metadata": {},
     "output_type": "execute_result"
    }
   ],
   "source": [
    "[(name, metric) for name, metric in zip(folders, scores)]"
   ]
  },
  {
   "cell_type": "code",
   "execution_count": 14,
   "metadata": {},
   "outputs": [
    {
     "data": {
      "text/plain": [
       "0.601099"
      ]
     },
     "execution_count": 14,
     "metadata": {},
     "output_type": "execute_result"
    }
   ],
   "source": [
    "import numpy as np\n",
    "np.mean(scores)"
   ]
  },
  {
   "cell_type": "code",
   "execution_count": null,
   "metadata": {},
   "outputs": [],
   "source": [
    "from langchain_core.tools import tool\n",
    "from langchain_ollama import ChatOllama\n",
    "\n",
    "model = ChatOllama(model=\"llama3.2:3b\", num_ctx=32768) # 65536\n",
    "# model1 = ChatOllama(model=\"llama3.2:3b\", num_ctx=32768)\n",
    "\n",
    "# Инструмент поиска на Arxiv\n",
    "# @tool(\"ArxivSearch\") # попробовать ArxivRetriever\n",
    "# def arxiv_search_tool(query: str, max_results: int = 2):\n",
    "#     \"\"\"Search articles on Arxiv by keywords\"\"\"\n",
    "#     search = arxiv.Search(\n",
    "#         query=query,\n",
    "#         max_results=max_results,\n",
    "#         sort_by=arxiv.SortCriterion.Relevance\n",
    "#     )\n",
    "#     articles = []\n",
    "#     for result in search.results():\n",
    "#         articles.append({\n",
    "#             \"title\": result.title,\n",
    "#             \"summary\": result.summary,\n",
    "#             \"url\": result.entry_id\n",
    "#         })\n",
    "#     return articles\n",
    "\n",
    "# @tool(\"ArxivSearch\")\n",
    "# def arxiv_search_tool(query: str, max_results: int = 2):\n",
    "#     \"\"\"Search articles on Arxiv by keywords\"\"\"\n",
    "#     retriever = ArxivRetriever(load_max_docs=max_results, get_full_documents=True)\n",
    "#     docs = retriever.invoke(query)\n",
    "#     fmt_articles = [f\"Title: {d.metadata['Title']} \\n Content: {d.page_content}\" for d in docs]\n",
    "\n",
    "#     return \"\\n\\n\".join(fmt_articles)\n",
    "\n",
    "@tool(\"ArticleSummarizingTool\")\n",
    "def arxiv_search_tool(query: str, max_results: int = 2):\n",
    "    \"\"\"Search articles on Arxiv by keywords and returns summaries of each article.\n",
    "    It takes keywords as query, max count of requested articles and model from AgentState\"\"\"\n",
    "    retriever = ArxivRetriever(\n",
    "        load_max_docs=min(1, max_results), \n",
    "        get_full_documents=True, \n",
    "        doc_content_chars_max=None,\n",
    "    )\n",
    "\n",
    "    docs = retriever.invoke(query)\n",
    "\n",
    "    sys_prompt = SystemMessage(\n",
    "        \"\"\"You are a helpful summarization AI assistant that takes text of Arxiv article and summarizes it into general overview including the most important points.\n",
    "        The max summarization length is 1000 characters. Minimum summarization length is 200 characters. \n",
    "        Do not return anything except summary.\"\"\"\n",
    "    )\n",
    "    summary = \"Summaries:\"\n",
    "\n",
    "    # print(\"query: \", query, \"num docs:\", len(docs))\n",
    "    for i, doc in enumerate(docs):\n",
    "        inp = [sys_prompt] + [HumanMessage(doc.page_content)]\n",
    "        sum_i = f\"{doc.metadata['Title']} \\n {model.invoke(inp).content}\"\n",
    "        summary += \"\\n\\n\" + sum_i\n",
    "    \n",
    "    return summary\n",
    "\n",
    "@tool(\"SummarizingTool\") # name=\"summarize_tool\", description=\"Summarizes text using a language model\"\n",
    "def summarize_tool(text: str):\n",
    "    \"\"\"Summarizes text using a language model\"\"\"\n",
    "    prompt = f\"Summarize the following article: {text}\"\n",
    "    summary = model(prompt)\n",
    "    return summary\n",
    "\n",
    "# Инструмент суммаризации текста\n",
    "# @tool(\"SummarizingTool\") # name=\"summarize_tool\", description=\"Summarizes text using a language model\"\n",
    "# def summarize_tool(text: str):\n",
    "#     \"\"\"Summarizes article's content into a general overview of the approaches\"\"\"\n",
    "#     prompt = f\"Summarize the following content into a general overview of the approaches: {text}\"\n",
    "#     summary = model.invoke(prompt)\n",
    "#     return summary\n",
    "\n",
    "\n",
    "tools = [arxiv_search_tool, summarize_tool]\n",
    "model_with_tools = model.bind_tools(tools)"
   ]
  },
  {
   "cell_type": "code",
   "execution_count": null,
   "metadata": {},
   "outputs": [],
   "source": [
    "tools_by_name = {tool.name: tool for tool in tools}\n",
    "\n",
    "def tool_node(state: AgentState):\n",
    "    outputs = []\n",
    "    for tool_call in state[\"messages\"][-1].tool_calls:\n",
    "        tool_result = tools_by_name[tool_call[\"name\"]].invoke(tool_call[\"args\"])\n",
    "        outputs.append(\n",
    "            ToolMessage(\n",
    "                content=json.dumps(tool_result),\n",
    "                name=tool_call[\"name\"],\n",
    "                tool_call_id=tool_call[\"id\"],\n",
    "            )\n",
    "        )\n",
    "    return {\"messages\": outputs}\n",
    "\n",
    "def call_model(\n",
    "        state: AgentState,\n",
    "        config: RunnableConfig,\n",
    "):\n",
    "    system_prompt = SystemMessage(\n",
    "         \"\"\"You are a helpful AI assistant that takes a user input and summarize arxiv articles found by strictly keywords from input. \n",
    "        You can use tool you have for searching articles and summarizing them.\n",
    "        You need to summarize approaches from all found articles and make general overview of the approaches\n",
    "        When you are certain you've got enough article summaries comprise them into related work with references.\n",
    "        Respond with plain text, do not include enumerates and any other paragraphs beside Related Work.\"\"\"\n",
    "        )\n",
    "    response = model_with_tools.invoke([system_prompt] + state[\"messages\"], config)\n",
    "    return {\"messages\": response}\n",
    "\n",
    "def should_continue(state: AgentState):\n",
    "    messages = state[\"messages\"]\n",
    "    last_message = messages[-1]\n",
    "    if not last_message.tool_calls:\n",
    "        return \"end\"\n",
    "    else:\n",
    "        return \"continue\"\n",
    "    "
   ]
  },
  {
   "cell_type": "code",
   "execution_count": 14,
   "metadata": {},
   "outputs": [],
   "source": [
    "from langgraph.graph import StateGraph, END\n",
    "\n",
    "workflow = StateGraph(AgentState)\n",
    "\n",
    "workflow.add_node(\"agent\", call_model)\n",
    "workflow.add_node(\"tools\", tool_node)\n",
    "\n",
    "workflow.set_entry_point(\"agent\")\n",
    "\n",
    "workflow.add_conditional_edges(\n",
    "    \"agent\",\n",
    "    should_continue,\n",
    "    {\n",
    "        \"continue\": \"tools\",\n",
    "        \"end\": END,\n",
    "    },\n",
    ")\n",
    "\n",
    "workflow.add_edge(\"tools\", \"agent\")\n",
    "\n",
    "graph = workflow.compile()\n"
   ]
  },
  {
   "cell_type": "code",
   "execution_count": 15,
   "metadata": {},
   "outputs": [
    {
     "data": {
      "image/png": "[encoded data removed]",
      "text/plain": [
       "<IPython.core.display.Image object>"
      ]
     },
     "metadata": {},
     "output_type": "display_data"
    }
   ],
   "source": [
    "from IPython.display import Image, display\n",
    "\n",
    "try:\n",
    "    display(Image(graph.get_graph().draw_mermaid_png()))\n",
    "except Exception:\n",
    "    # This requires some extra dependencies and is optional\n",
    "    pass"
   ]
  },
  {
   "cell_type": "markdown",
   "metadata": {},
   "source": [
    "## Use agent"
   ]
  },
  {
   "cell_type": "code",
   "execution_count": 16,
   "metadata": {},
   "outputs": [
    {
     "name": "stdout",
     "output_type": "stream",
     "text": [
      "================================\u001b[1m Human Message \u001b[0m=================================\n",
      "\n",
      "attention\n",
      "==================================\u001b[1m Ai Message \u001b[0m==================================\n",
      "Tool Calls:\n",
      "  ArticleSummarizingTool (863046ea-86ac-44c7-b70d-0a0d576cb4ce)\n",
      " Call ID: 863046ea-86ac-44c7-b70d-0a0d576cb4ce\n",
      "  Args:\n",
      "    max_results: 10\n",
      "    model: \n",
      "    query: attention\n",
      "    state: {'AgentState': {'model': 'transformer'}}\n",
      "=================================\u001b[1m Tool Message \u001b[0m=================================\n",
      "Name: ArticleSummarizingTool\n",
      "\n",
      "\"Summaries:\\n\\nExploring Human-like Attention Supervision in Visual Question Answering \\n \\n\\nAgent Attention: On the Integration of Softmax and Linear Attention \\n \\n\\nTri-Attention: Explicit Context-Aware Attention Mechanism for Natural Language Processing \\n \"\n",
      "==================================\u001b[1m Ai Message \u001b[0m==================================\n",
      "\n",
      "Here is a summary of the articles found:\n",
      "\n",
      "The article \"Exploring Human-like Attention Supervision in Visual Question Answering\" discusses the use of attention mechanisms in visual question answering (VQA) tasks. The authors propose a novel approach that uses human-like attention supervision to improve the performance of VQA models.\n",
      "\n",
      "The article \"Agent Attention: On the Integration of Softmax and Linear Attention\" examines the integration of softmax and linear attention mechanisms in deep neural networks. The authors argue that the combination of these two mechanisms can lead to better performance in tasks such as machine translation and question answering.\n",
      "\n",
      "The article \"Tri-Attention: Explicit Context-Aware Attention Mechanism for Natural Language Processing\" introduces a new attention mechanism called Tri-Attention, which is designed to be context-aware and explicit. The authors show that this mechanism can improve the performance of natural language processing tasks, such as text classification and sentiment analysis.\n",
      "\n",
      "Overall, these articles suggest that attention mechanisms play an important role in improving the performance of deep neural networks in various NLP tasks. They propose new approaches for designing and integrating attention mechanisms, which can lead to better results in applications such as VQA, machine translation, and natural language processing.\n",
      "\n",
      "Related Work:\n",
      "\n",
      "* Attention-based models have been widely used in NLP tasks, including text classification, sentiment analysis, and machine translation.\n",
      "* The use of attention mechanisms has improved the performance of deep neural networks in various tasks.\n",
      "* Human-like attention supervision has been proposed to improve the performance of VQA models.\n",
      "* Tri-Attention is a new attention mechanism that is designed to be context-aware and explicit.\n",
      "\n",
      "References:\n",
      "\n",
      "* \"Exploring Human-like Attention Supervision in Visual Question Answering\" ( arXiv:1909.09485 )\n",
      "* \"Agent Attention: On the Integration of Softmax and Linear Attention\" ( arXiv:1806.06923 )\n",
      "* \"Tri-Attention: Explicit Context-Aware Attention Mechanism for Natural Language Processing\" ( arXiv:1905.04303 )\n"
     ]
    }
   ],
   "source": [
    "# def print_stream(stream):\n",
    "#     for s in stream:\n",
    "#         message = s[\"messages\"][-1]\n",
    "#         if isinstance(message, BaseMessage):\n",
    "#             print(f\"=================== {message.__class__.__name__} ===================\")\n",
    "#         else:\n",
    "#             message.pretty_print()\n",
    "#         print(message.content)\n",
    "\n",
    "def print_stream(stream):\n",
    "    idx = 0\n",
    "    for s in stream:\n",
    "        for message in s[\"messages\"][idx:]:\n",
    "            idx += 1\n",
    "            if isinstance(message, tuple):\n",
    "                print(message)\n",
    "            else:\n",
    "                message.pretty_print()\n",
    "\n",
    "\n",
    "inputs = {\"messages\": [(\"user\", \"attention\")]}\n",
    "print_stream(graph.stream(inputs, stream_mode=\"values\"))"
   ]
  },
  {
   "cell_type": "code",
   "execution_count": 17,
   "metadata": {},
   "outputs": [],
   "source": [
    "# rtr = ArxivRetriever(load_max_docs=2, get_full_documents=True, doc_content_chars_max=None)\n",
    "\n",
    "# docs = rtr.invoke(\"attention\")\n",
    "\n",
    "# docs[0]"
   ]
  },
  {
   "cell_type": "code",
   "execution_count": 18,
   "metadata": {},
   "outputs": [
    {
     "data": {
      "text/plain": [
       "AIMessage(content='', additional_kwargs={}, response_metadata={'model': 'llama3.2:3b', 'created_at': '2024-12-15T18:43:19.6219702Z', 'done': True, 'done_reason': 'stop', 'total_duration': 2623486200, 'load_duration': 18214800, 'prompt_eval_count': 245, 'prompt_eval_duration': 381000000, 'eval_count': 30, 'eval_duration': 2223000000, 'message': Message(role='assistant', content='', images=None, tool_calls=[ToolCall(function=Function(name='ArticleSummarizingTool', arguments={'max_results': '10', 'model': '', 'query': ''}))])}, id='run-4490a280-d1bf-48ba-86db-1c8f9b71e2be-0', tool_calls=[{'name': 'ArticleSummarizingTool', 'args': {'max_results': '10', 'model': '', 'query': ''}, 'id': '9121c349-01b5-48fb-92b0-0bfa7793d98f', 'type': 'tool_call'}], usage_metadata={'input_tokens': 245, 'output_tokens': 30, 'total_tokens': 275})"
      ]
     },
     "execution_count": 18,
     "metadata": {},
     "output_type": "execute_result"
    }
   ],
   "source": [
    "model.invoke(\"Hello! How are you?\")"
   ]
  },
  {
   "cell_type": "code",
   "execution_count": 19,
   "metadata": {},
   "outputs": [],
   "source": [
    "# print(docs[0].page_content)"
   ]
  },
  {
   "cell_type": "code",
   "execution_count": 20,
   "metadata": {},
   "outputs": [],
   "source": [
    "# wrapper = ArxivAPIWrapper(\n",
    "#     top_k_results=3,\n",
    "#     load_max_docs=3,\n",
    "#     doc_content_chars_max = None,\n",
    "# )\n",
    "# docs = wrapper.get_summaries_as_docs(query=\"attention\")\n",
    "# docs[0]"
   ]
  }
 ],
 "metadata": {
  "kernelspec": {
   "display_name": "agent_venv",
   "language": "python",
   "name": "python3"
  },
  "language_info": {
   "codemirror_mode": {
    "name": "ipython",
    "version": 3
   },
   "file_extension": ".py",
   "mimetype": "text/x-python",
   "name": "python",
   "nbconvert_exporter": "python",
   "pygments_lexer": "ipython3",
   "version": "3.10.16"
  }
 },
 "nbformat": 4,
 "nbformat_minor": 4
}
